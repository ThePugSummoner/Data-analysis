{
 "cells": [
  {
   "attachments": {},
   "cell_type": "markdown",
   "metadata": {},
   "source": [
    "### Lecture 25.01.2023"
   ]
  },
  {
   "cell_type": "code",
   "execution_count": 1,
   "metadata": {},
   "outputs": [
    {
     "name": "stdout",
     "output_type": "stream",
     "text": [
      "Printataan jotain\n"
     ]
    }
   ],
   "source": [
    "print(\"Printataan jotain\")"
   ]
  },
  {
   "cell_type": "code",
   "execution_count": 11,
   "metadata": {},
   "outputs": [
    {
     "name": "stdout",
     "output_type": "stream",
     "text": [
      "Sum of numbers is 6\n"
     ]
    }
   ],
   "source": [
    "# Summary of three numbers\n",
    "\n",
    "a = 1\n",
    "b = 2\n",
    "c = 3\n",
    "\n",
    "sum_of_three = a+b+c\n",
    "\n",
    "print(\"Sum of numbers is\", sum_of_three)\n"
   ]
  },
  {
   "cell_type": "code",
   "execution_count": 13,
   "metadata": {},
   "outputs": [
    {
     "name": "stdout",
     "output_type": "stream",
     "text": [
      "Sum of numbers using a function is 6\n"
     ]
    }
   ],
   "source": [
    "# The same thing using function\n",
    "\n",
    "def sum_of_three_func(x, y, z):\n",
    "    sum_result = x+y+z\n",
    "    return sum_result\n",
    "\n",
    "print(\"Sum of numbers using a function is\", sum_of_three_func(a,b,c))"
   ]
  },
  {
   "cell_type": "code",
   "execution_count": 15,
   "metadata": {},
   "outputs": [],
   "source": [
    "# Fibonacci numbers module\n",
    "\n",
    "# Import function from my_module.py\n",
    "\n",
    "import my_module as mym\n"
   ]
  },
  {
   "cell_type": "code",
   "execution_count": 19,
   "metadata": {},
   "outputs": [
    {
     "data": {
      "text/plain": [
       "[0, 1, 1, 2, 3, 5, 8, 13]"
      ]
     },
     "execution_count": 19,
     "metadata": {},
     "output_type": "execute_result"
    }
   ],
   "source": [
    "mym.fib2(20)"
   ]
  },
  {
   "cell_type": "code",
   "execution_count": 21,
   "metadata": {},
   "outputs": [
    {
     "name": "stdout",
     "output_type": "stream",
     "text": [
      "0 1 1 2 3 5 8 13 21 34 55 89 \n"
     ]
    }
   ],
   "source": [
    "mym.fib(100)"
   ]
  },
  {
   "cell_type": "code",
   "execution_count": 22,
   "metadata": {},
   "outputs": [
    {
     "data": {
      "text/plain": [
       "11"
      ]
     },
     "execution_count": 22,
     "metadata": {},
     "output_type": "execute_result"
    }
   ],
   "source": [
    "# Lambda\n",
    "\n",
    "#Example using a function\n",
    "\n",
    "def polynomial(x):\n",
    "    y = x**2 - 2*x + 3\n",
    "    return y\n",
    "\n",
    "polynomial(4)"
   ]
  },
  {
   "cell_type": "code",
   "execution_count": 23,
   "metadata": {},
   "outputs": [
    {
     "data": {
      "text/plain": [
       "11"
      ]
     },
     "execution_count": 23,
     "metadata": {},
     "output_type": "execute_result"
    }
   ],
   "source": [
    "polynomial_l = lambda x : x**2 - 2*x + 3\n",
    "\n",
    "polynomial_l(4)"
   ]
  },
  {
   "cell_type": "code",
   "execution_count": 28,
   "metadata": {},
   "outputs": [
    {
     "data": {
      "text/plain": [
       "4"
      ]
     },
     "execution_count": 28,
     "metadata": {},
     "output_type": "execute_result"
    }
   ],
   "source": [
    "# Lambda inside another function\n",
    "\n",
    "def myfunc(a,b,c):\n",
    "    return lambda x : a*x**2 - b*x + c\n",
    "\n",
    "polynomial_l2 = myfunc(2,4,6)\n",
    "\n",
    "polynomial_l2(1)\n",
    "\n",
    "#print(polynomial_l2)"
   ]
  },
  {
   "cell_type": "code",
   "execution_count": 29,
   "metadata": {},
   "outputs": [
    {
     "name": "stdout",
     "output_type": "stream",
     "text": [
      "6 -2\n"
     ]
    }
   ],
   "source": [
    "# Classes\n",
    "\n",
    "class my_first_class:\n",
    "    a = 6\n",
    "    b = -2\n",
    "    c = 3\n",
    "\n",
    "# Let's construct an object\n",
    "\n",
    "my_obj = my_first_class()\n",
    "\n",
    "print(my_obj.a, my_obj.b)"
   ]
  },
  {
   "cell_type": "code",
   "execution_count": 36,
   "metadata": {},
   "outputs": [
    {
     "name": "stdout",
     "output_type": "stream",
     "text": [
      "Cat black 5\n"
     ]
    }
   ],
   "source": [
    "# The __init()__ - function\n",
    "\n",
    "class Animals:\n",
    "    def __init__(self, species, color, weight):\n",
    "        self.species = species\n",
    "        self.color = color\n",
    "        self.weight = weight\n",
    "\n",
    "#Create an object for a cat\n",
    "\n",
    "animal1 = Animals('Cat', 'black', 5)\n",
    "\n",
    "print(animal1.species, animal1.color, animal1.weight)"
   ]
  },
  {
   "cell_type": "code",
   "execution_count": 38,
   "metadata": {},
   "outputs": [
    {
     "data": {
      "text/plain": [
       "38"
      ]
     },
     "execution_count": 38,
     "metadata": {},
     "output_type": "execute_result"
    }
   ],
   "source": [
    "# Math function iside a class\n",
    "# y = a*x**2 + b*x + c\n",
    "\n",
    "class MathClass:\n",
    "    def __init__(self, a, b, c):\n",
    "        self.a = a\n",
    "        self.b = b\n",
    "        self.c = c\n",
    "    def polynomial(self, x):\n",
    "        y = self.a*x**2 + self.b*x + self.c\n",
    "        return y\n",
    "\n",
    "# Create a function y = 3*x**2 + 2*x + 5\n",
    "\n",
    "y_function = MathClass(3,2,5)\n",
    "\n",
    "# Calculate value of y_function x = 3\n",
    "\n",
    "y_function.polynomial(3)\n",
    "\n"
   ]
  },
  {
   "cell_type": "code",
   "execution_count": 174,
   "metadata": {},
   "outputs": [],
   "source": [
    "#y = 3𝑥**2 +2𝑥 −6\n",
    "\n",
    "def math_func(x):\n",
    "    y = 3*x**2 + 2*x - 6\n",
    "    return y\n",
    "\n",
    "def mid_int(a,b,c):\n",
    "\n",
    "    if (a >= b and b >= c or b <= c and b >= a):\n",
    "        value = b\n",
    "        \n",
    "    elif (b <= a and a <= c or a >= c and a <= b):\n",
    "        value = a\n",
    "        \n",
    "    elif (a >= c and c >= b or c >= a and c <= b):\n",
    "        value = c     \n",
    "    #else:\n",
    "    #    value = c\n",
    "    return value\n",
    "\n",
    "def combo_funct(a,b,c):\n",
    "    x = mid_int(a,b,c)\n",
    "    y = math_func(x)\n",
    "    return y\n",
    "    "
   ]
  },
  {
   "cell_type": "code",
   "execution_count": 186,
   "metadata": {},
   "outputs": [
    {
     "name": "stdout",
     "output_type": "stream",
     "text": [
      "-6\n",
      "8\n",
      "114\n"
     ]
    }
   ],
   "source": [
    "print(math_func(0))\n",
    "\n",
    "print(mid_int(8,5,12))\n",
    "\n",
    "print(combo_funct(6,8,2))\n",
    "\n"
   ]
  }
 ],
 "metadata": {
  "kernelspec": {
   "display_name": "Python 3",
   "language": "python",
   "name": "python3"
  },
  "language_info": {
   "codemirror_mode": {
    "name": "ipython",
    "version": 3
   },
   "file_extension": ".py",
   "mimetype": "text/x-python",
   "name": "python",
   "nbconvert_exporter": "python",
   "pygments_lexer": "ipython3",
   "version": "3.11.1"
  },
  "orig_nbformat": 4,
  "vscode": {
   "interpreter": {
    "hash": "c261aea317cc0286b3b3261fbba9abdec21eaa57589985bb7a274bf54d6cc0a7"
   }
  }
 },
 "nbformat": 4,
 "nbformat_minor": 2
}
